{
  "nbformat": 4,
  "nbformat_minor": 0,
  "metadata": {
    "colab": {
      "provenance": [],
      "authorship_tag": "ABX9TyNm2+HzN57DRIVfzKmZnzO1",
      "include_colab_link": true
    },
    "kernelspec": {
      "name": "python3",
      "display_name": "Python 3"
    },
    "language_info": {
      "name": "python"
    }
  },
  "cells": [
    {
      "cell_type": "markdown",
      "metadata": {
        "id": "view-in-github",
        "colab_type": "text"
      },
      "source": [
        "<a href=\"https://colab.research.google.com/github/yingzibu/ODE/blob/main/learn/eigenvalue_eigenvector_calculation.ipynb\" target=\"_parent\"><img src=\"https://colab.research.google.com/assets/colab-badge.svg\" alt=\"Open In Colab\"/></a>"
      ]
    },
    {
      "cell_type": "code",
      "execution_count": 1,
      "metadata": {
        "id": "yJW0EaNcZjFF"
      },
      "outputs": [],
      "source": [
        "import numpy as np"
      ]
    },
    {
      "cell_type": "code",
      "source": [
        "Ka = 0.5\n",
        "k10 = 0.1\n",
        "k12 = 0.3\n",
        "k21 = 0.2\n",
        "A = np.array([[-Ka, 0, 0],\n",
        "              [Ka, -k10-k12, k21],\n",
        "              [0, k12, -k21]])"
      ],
      "metadata": {
        "id": "-VzZIsSAZoA1"
      },
      "execution_count": 2,
      "outputs": []
    },
    {
      "cell_type": "code",
      "source": [
        "print(A)"
      ],
      "metadata": {
        "colab": {
          "base_uri": "https://localhost:8080/"
        },
        "id": "ldbaXw15Z2-j",
        "outputId": "c7fea48a-2286-4812-fb5c-20d28eb2511e"
      },
      "execution_count": 3,
      "outputs": [
        {
          "output_type": "stream",
          "name": "stdout",
          "text": [
            "[[-0.5  0.   0. ]\n",
            " [ 0.5 -0.4  0.2]\n",
            " [ 0.   0.3 -0.2]]\n"
          ]
        }
      ]
    },
    {
      "cell_type": "code",
      "source": [
        "eigenvalues, eigenvectors = np.linalg.eig(A)\n",
        "eigenvalues"
      ],
      "metadata": {
        "colab": {
          "base_uri": "https://localhost:8080/"
        },
        "id": "lO4j5bdQZ31E",
        "outputId": "1226fe31-67b5-437e-a918-a72286000df2"
      },
      "execution_count": 4,
      "outputs": [
        {
          "output_type": "execute_result",
          "data": {
            "text/plain": [
              "array([-0.03542487, -0.56457513, -0.5       ])"
            ]
          },
          "metadata": {},
          "execution_count": 4
        }
      ]
    },
    {
      "cell_type": "code",
      "source": [
        "eigenvectors"
      ],
      "metadata": {
        "colab": {
          "base_uri": "https://localhost:8080/"
        },
        "id": "_WVuL6o1Z-nh",
        "outputId": "297e2a22-4d79-4d9b-d8fa-b3d7f2401b46"
      },
      "execution_count": 5,
      "outputs": [
        {
          "output_type": "execute_result",
          "data": {
            "text/plain": [
              "array([[ 0.        ,  0.        ,  0.14002801],\n",
              "       [ 0.48096517,  0.7721779 ,  0.70014004],\n",
              "       [ 0.8767397 , -0.6354064 , -0.70014004]])"
            ]
          },
          "metadata": {},
          "execution_count": 5
        }
      ]
    },
    {
      "cell_type": "markdown",
      "source": [
        "## Test whether $A\\mathbf{v} = \\lambda \\mathbf{v}$"
      ],
      "metadata": {
        "id": "TWXyPDJxaay0"
      }
    },
    {
      "cell_type": "code",
      "source": [
        "v2 = eigenvectors[:, 2]\n",
        "v2"
      ],
      "metadata": {
        "colab": {
          "base_uri": "https://localhost:8080/"
        },
        "id": "qRleOnngZ_Rh",
        "outputId": "7d9d4020-47c1-4e90-f4ef-f3450f730cab"
      },
      "execution_count": 7,
      "outputs": [
        {
          "output_type": "execute_result",
          "data": {
            "text/plain": [
              "array([ 0.14002801,  0.70014004, -0.70014004])"
            ]
          },
          "metadata": {},
          "execution_count": 7
        }
      ]
    },
    {
      "cell_type": "code",
      "source": [
        "print(np.dot(A, v2))"
      ],
      "metadata": {
        "colab": {
          "base_uri": "https://localhost:8080/"
        },
        "id": "64p2mXkQaJZu",
        "outputId": "b23fa04c-ed46-44c5-beac-e2cefb313e07"
      },
      "execution_count": 8,
      "outputs": [
        {
          "output_type": "stream",
          "name": "stdout",
          "text": [
            "[-0.070014   -0.35007002  0.35007002]\n"
          ]
        }
      ]
    },
    {
      "cell_type": "code",
      "source": [
        "print(eigenvalues[2]*v2)"
      ],
      "metadata": {
        "colab": {
          "base_uri": "https://localhost:8080/"
        },
        "id": "vW3vQWraaPca",
        "outputId": "e4cfb61e-261d-4662-b11d-5bcd0efa4c4f"
      },
      "execution_count": 9,
      "outputs": [
        {
          "output_type": "stream",
          "name": "stdout",
          "text": [
            "[-0.070014   -0.35007002  0.35007002]\n"
          ]
        }
      ]
    },
    {
      "cell_type": "code",
      "source": [],
      "metadata": {
        "id": "mm0P5Mg4aTlQ"
      },
      "execution_count": null,
      "outputs": []
    }
  ]
}